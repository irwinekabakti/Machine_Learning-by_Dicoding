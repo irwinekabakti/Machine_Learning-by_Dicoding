{
  "nbformat": 4,
  "nbformat_minor": 0,
  "metadata": {
    "colab": {
      "provenance": [],
      "collapsed_sections": []
    },
    "kernelspec": {
      "name": "python3",
      "display_name": "Python 3"
    },
    "language_info": {
      "name": "python"
    }
  },
  "cells": [
    {
      "cell_type": "code",
      "execution_count": 1,
      "metadata": {
        "id": "YPZMKqLGOihS"
      },
      "outputs": [],
      "source": [
        "!chmod 600 /content/kaggle.json"
      ]
    },
    {
      "cell_type": "code",
      "source": [
        "! KAGGLE_CONFIG_DIR=/content/ kaggle datasets download -d emmanuelfwerr/london-weather-data"
      ],
      "metadata": {
        "colab": {
          "base_uri": "https://localhost:8080/"
        },
        "id": "vKP4JSO6OjpE",
        "outputId": "faf3c246-af5b-4c73-c8f7-6290cf73e1d7"
      },
      "execution_count": 2,
      "outputs": [
        {
          "output_type": "stream",
          "name": "stdout",
          "text": [
            "Downloading london-weather-data.zip to /content\n",
            "\r  0% 0.00/226k [00:00<?, ?B/s]\n",
            "\r100% 226k/226k [00:00<00:00, 23.2MB/s]\n"
          ]
        }
      ]
    },
    {
      "cell_type": "code",
      "source": [
        "import zipfile\n",
        "zip_file = zipfile.ZipFile('/content/london-weather-data.zip')\n",
        "zip_file.extractall('/tmp/')"
      ],
      "metadata": {
        "id": "_gaDSBk5OrSn"
      },
      "execution_count": 3,
      "outputs": []
    },
    {
      "cell_type": "code",
      "source": [
        "import pandas as pd\n",
        "\n",
        "df_train = pd.read_csv('/tmp/london_weather.csv')\n",
        "df_train.head(10)"
      ],
      "metadata": {
        "colab": {
          "base_uri": "https://localhost:8080/",
          "height": 363
        },
        "id": "HnykkEmjPBWu",
        "outputId": "db0e4e29-29e2-4ef8-bff6-c1e29c5a82f3"
      },
      "execution_count": 4,
      "outputs": [
        {
          "output_type": "execute_result",
          "data": {
            "text/plain": [
              "       date  cloud_cover  sunshine  global_radiation  max_temp  mean_temp  \\\n",
              "0  19790101          2.0       7.0              52.0       2.3       -4.1   \n",
              "1  19790102          6.0       1.7              27.0       1.6       -2.6   \n",
              "2  19790103          5.0       0.0              13.0       1.3       -2.8   \n",
              "3  19790104          8.0       0.0              13.0      -0.3       -2.6   \n",
              "4  19790105          6.0       2.0              29.0       5.6       -0.8   \n",
              "5  19790106          5.0       3.8              39.0       8.3       -0.5   \n",
              "6  19790107          8.0       0.0              13.0       8.5        1.5   \n",
              "7  19790108          8.0       0.1              15.0       5.8        6.9   \n",
              "8  19790109          4.0       5.8              50.0       5.2        3.7   \n",
              "9  19790110          7.0       1.9              30.0       4.9        3.3   \n",
              "\n",
              "   min_temp  precipitation  pressure  snow_depth  \n",
              "0      -7.5            0.4  101900.0         9.0  \n",
              "1      -7.5            0.0  102530.0         8.0  \n",
              "2      -7.2            0.0  102050.0         4.0  \n",
              "3      -6.5            0.0  100840.0         2.0  \n",
              "4      -1.4            0.0  102250.0         1.0  \n",
              "5      -6.6            0.7  102780.0         1.0  \n",
              "6      -5.3            5.2  102520.0         0.0  \n",
              "7       5.3            0.8  101870.0         0.0  \n",
              "8       1.6            7.2  101170.0         0.0  \n",
              "9       1.4            2.1   98700.0         0.0  "
            ],
            "text/html": [
              "\n",
              "  <div id=\"df-304e4566-3802-4136-8097-0ff844d7d6d5\">\n",
              "    <div class=\"colab-df-container\">\n",
              "      <div>\n",
              "<style scoped>\n",
              "    .dataframe tbody tr th:only-of-type {\n",
              "        vertical-align: middle;\n",
              "    }\n",
              "\n",
              "    .dataframe tbody tr th {\n",
              "        vertical-align: top;\n",
              "    }\n",
              "\n",
              "    .dataframe thead th {\n",
              "        text-align: right;\n",
              "    }\n",
              "</style>\n",
              "<table border=\"1\" class=\"dataframe\">\n",
              "  <thead>\n",
              "    <tr style=\"text-align: right;\">\n",
              "      <th></th>\n",
              "      <th>date</th>\n",
              "      <th>cloud_cover</th>\n",
              "      <th>sunshine</th>\n",
              "      <th>global_radiation</th>\n",
              "      <th>max_temp</th>\n",
              "      <th>mean_temp</th>\n",
              "      <th>min_temp</th>\n",
              "      <th>precipitation</th>\n",
              "      <th>pressure</th>\n",
              "      <th>snow_depth</th>\n",
              "    </tr>\n",
              "  </thead>\n",
              "  <tbody>\n",
              "    <tr>\n",
              "      <th>0</th>\n",
              "      <td>19790101</td>\n",
              "      <td>2.0</td>\n",
              "      <td>7.0</td>\n",
              "      <td>52.0</td>\n",
              "      <td>2.3</td>\n",
              "      <td>-4.1</td>\n",
              "      <td>-7.5</td>\n",
              "      <td>0.4</td>\n",
              "      <td>101900.0</td>\n",
              "      <td>9.0</td>\n",
              "    </tr>\n",
              "    <tr>\n",
              "      <th>1</th>\n",
              "      <td>19790102</td>\n",
              "      <td>6.0</td>\n",
              "      <td>1.7</td>\n",
              "      <td>27.0</td>\n",
              "      <td>1.6</td>\n",
              "      <td>-2.6</td>\n",
              "      <td>-7.5</td>\n",
              "      <td>0.0</td>\n",
              "      <td>102530.0</td>\n",
              "      <td>8.0</td>\n",
              "    </tr>\n",
              "    <tr>\n",
              "      <th>2</th>\n",
              "      <td>19790103</td>\n",
              "      <td>5.0</td>\n",
              "      <td>0.0</td>\n",
              "      <td>13.0</td>\n",
              "      <td>1.3</td>\n",
              "      <td>-2.8</td>\n",
              "      <td>-7.2</td>\n",
              "      <td>0.0</td>\n",
              "      <td>102050.0</td>\n",
              "      <td>4.0</td>\n",
              "    </tr>\n",
              "    <tr>\n",
              "      <th>3</th>\n",
              "      <td>19790104</td>\n",
              "      <td>8.0</td>\n",
              "      <td>0.0</td>\n",
              "      <td>13.0</td>\n",
              "      <td>-0.3</td>\n",
              "      <td>-2.6</td>\n",
              "      <td>-6.5</td>\n",
              "      <td>0.0</td>\n",
              "      <td>100840.0</td>\n",
              "      <td>2.0</td>\n",
              "    </tr>\n",
              "    <tr>\n",
              "      <th>4</th>\n",
              "      <td>19790105</td>\n",
              "      <td>6.0</td>\n",
              "      <td>2.0</td>\n",
              "      <td>29.0</td>\n",
              "      <td>5.6</td>\n",
              "      <td>-0.8</td>\n",
              "      <td>-1.4</td>\n",
              "      <td>0.0</td>\n",
              "      <td>102250.0</td>\n",
              "      <td>1.0</td>\n",
              "    </tr>\n",
              "    <tr>\n",
              "      <th>5</th>\n",
              "      <td>19790106</td>\n",
              "      <td>5.0</td>\n",
              "      <td>3.8</td>\n",
              "      <td>39.0</td>\n",
              "      <td>8.3</td>\n",
              "      <td>-0.5</td>\n",
              "      <td>-6.6</td>\n",
              "      <td>0.7</td>\n",
              "      <td>102780.0</td>\n",
              "      <td>1.0</td>\n",
              "    </tr>\n",
              "    <tr>\n",
              "      <th>6</th>\n",
              "      <td>19790107</td>\n",
              "      <td>8.0</td>\n",
              "      <td>0.0</td>\n",
              "      <td>13.0</td>\n",
              "      <td>8.5</td>\n",
              "      <td>1.5</td>\n",
              "      <td>-5.3</td>\n",
              "      <td>5.2</td>\n",
              "      <td>102520.0</td>\n",
              "      <td>0.0</td>\n",
              "    </tr>\n",
              "    <tr>\n",
              "      <th>7</th>\n",
              "      <td>19790108</td>\n",
              "      <td>8.0</td>\n",
              "      <td>0.1</td>\n",
              "      <td>15.0</td>\n",
              "      <td>5.8</td>\n",
              "      <td>6.9</td>\n",
              "      <td>5.3</td>\n",
              "      <td>0.8</td>\n",
              "      <td>101870.0</td>\n",
              "      <td>0.0</td>\n",
              "    </tr>\n",
              "    <tr>\n",
              "      <th>8</th>\n",
              "      <td>19790109</td>\n",
              "      <td>4.0</td>\n",
              "      <td>5.8</td>\n",
              "      <td>50.0</td>\n",
              "      <td>5.2</td>\n",
              "      <td>3.7</td>\n",
              "      <td>1.6</td>\n",
              "      <td>7.2</td>\n",
              "      <td>101170.0</td>\n",
              "      <td>0.0</td>\n",
              "    </tr>\n",
              "    <tr>\n",
              "      <th>9</th>\n",
              "      <td>19790110</td>\n",
              "      <td>7.0</td>\n",
              "      <td>1.9</td>\n",
              "      <td>30.0</td>\n",
              "      <td>4.9</td>\n",
              "      <td>3.3</td>\n",
              "      <td>1.4</td>\n",
              "      <td>2.1</td>\n",
              "      <td>98700.0</td>\n",
              "      <td>0.0</td>\n",
              "    </tr>\n",
              "  </tbody>\n",
              "</table>\n",
              "</div>\n",
              "      <button class=\"colab-df-convert\" onclick=\"convertToInteractive('df-304e4566-3802-4136-8097-0ff844d7d6d5')\"\n",
              "              title=\"Convert this dataframe to an interactive table.\"\n",
              "              style=\"display:none;\">\n",
              "        \n",
              "  <svg xmlns=\"http://www.w3.org/2000/svg\" height=\"24px\"viewBox=\"0 0 24 24\"\n",
              "       width=\"24px\">\n",
              "    <path d=\"M0 0h24v24H0V0z\" fill=\"none\"/>\n",
              "    <path d=\"M18.56 5.44l.94 2.06.94-2.06 2.06-.94-2.06-.94-.94-2.06-.94 2.06-2.06.94zm-11 1L8.5 8.5l.94-2.06 2.06-.94-2.06-.94L8.5 2.5l-.94 2.06-2.06.94zm10 10l.94 2.06.94-2.06 2.06-.94-2.06-.94-.94-2.06-.94 2.06-2.06.94z\"/><path d=\"M17.41 7.96l-1.37-1.37c-.4-.4-.92-.59-1.43-.59-.52 0-1.04.2-1.43.59L10.3 9.45l-7.72 7.72c-.78.78-.78 2.05 0 2.83L4 21.41c.39.39.9.59 1.41.59.51 0 1.02-.2 1.41-.59l7.78-7.78 2.81-2.81c.8-.78.8-2.07 0-2.86zM5.41 20L4 18.59l7.72-7.72 1.47 1.35L5.41 20z\"/>\n",
              "  </svg>\n",
              "      </button>\n",
              "      \n",
              "  <style>\n",
              "    .colab-df-container {\n",
              "      display:flex;\n",
              "      flex-wrap:wrap;\n",
              "      gap: 12px;\n",
              "    }\n",
              "\n",
              "    .colab-df-convert {\n",
              "      background-color: #E8F0FE;\n",
              "      border: none;\n",
              "      border-radius: 50%;\n",
              "      cursor: pointer;\n",
              "      display: none;\n",
              "      fill: #1967D2;\n",
              "      height: 32px;\n",
              "      padding: 0 0 0 0;\n",
              "      width: 32px;\n",
              "    }\n",
              "\n",
              "    .colab-df-convert:hover {\n",
              "      background-color: #E2EBFA;\n",
              "      box-shadow: 0px 1px 2px rgba(60, 64, 67, 0.3), 0px 1px 3px 1px rgba(60, 64, 67, 0.15);\n",
              "      fill: #174EA6;\n",
              "    }\n",
              "\n",
              "    [theme=dark] .colab-df-convert {\n",
              "      background-color: #3B4455;\n",
              "      fill: #D2E3FC;\n",
              "    }\n",
              "\n",
              "    [theme=dark] .colab-df-convert:hover {\n",
              "      background-color: #434B5C;\n",
              "      box-shadow: 0px 1px 3px 1px rgba(0, 0, 0, 0.15);\n",
              "      filter: drop-shadow(0px 1px 2px rgba(0, 0, 0, 0.3));\n",
              "      fill: #FFFFFF;\n",
              "    }\n",
              "  </style>\n",
              "\n",
              "      <script>\n",
              "        const buttonEl =\n",
              "          document.querySelector('#df-304e4566-3802-4136-8097-0ff844d7d6d5 button.colab-df-convert');\n",
              "        buttonEl.style.display =\n",
              "          google.colab.kernel.accessAllowed ? 'block' : 'none';\n",
              "\n",
              "        async function convertToInteractive(key) {\n",
              "          const element = document.querySelector('#df-304e4566-3802-4136-8097-0ff844d7d6d5');\n",
              "          const dataTable =\n",
              "            await google.colab.kernel.invokeFunction('convertToInteractive',\n",
              "                                                     [key], {});\n",
              "          if (!dataTable) return;\n",
              "\n",
              "          const docLinkHtml = 'Like what you see? Visit the ' +\n",
              "            '<a target=\"_blank\" href=https://colab.research.google.com/notebooks/data_table.ipynb>data table notebook</a>'\n",
              "            + ' to learn more about interactive tables.';\n",
              "          element.innerHTML = '';\n",
              "          dataTable['output_type'] = 'display_data';\n",
              "          await google.colab.output.renderOutput(dataTable, element);\n",
              "          const docLink = document.createElement('div');\n",
              "          docLink.innerHTML = docLinkHtml;\n",
              "          element.appendChild(docLink);\n",
              "        }\n",
              "      </script>\n",
              "    </div>\n",
              "  </div>\n",
              "  "
            ]
          },
          "metadata": {},
          "execution_count": 4
        }
      ]
    },
    {
      "cell_type": "code",
      "source": [
        "df_train.shape"
      ],
      "metadata": {
        "colab": {
          "base_uri": "https://localhost:8080/"
        },
        "id": "oPW9-WoSPPWS",
        "outputId": "3c8c78a7-f18e-4a8a-84c3-7e1bcebb0ba2"
      },
      "execution_count": 5,
      "outputs": [
        {
          "output_type": "execute_result",
          "data": {
            "text/plain": [
              "(15341, 10)"
            ]
          },
          "metadata": {},
          "execution_count": 5
        }
      ]
    },
    {
      "cell_type": "code",
      "source": [
        "df_train.info"
      ],
      "metadata": {
        "colab": {
          "base_uri": "https://localhost:8080/"
        },
        "id": "3E0TwdOUPrlJ",
        "outputId": "3d389cdd-24ec-467b-b5de-6faaac3af00a"
      },
      "execution_count": 6,
      "outputs": [
        {
          "output_type": "execute_result",
          "data": {
            "text/plain": [
              "<bound method DataFrame.info of            date  cloud_cover  sunshine  global_radiation  max_temp  mean_temp  \\\n",
              "0      19790101          2.0       7.0              52.0       2.3       -4.1   \n",
              "1      19790102          6.0       1.7              27.0       1.6       -2.6   \n",
              "2      19790103          5.0       0.0              13.0       1.3       -2.8   \n",
              "3      19790104          8.0       0.0              13.0      -0.3       -2.6   \n",
              "4      19790105          6.0       2.0              29.0       5.6       -0.8   \n",
              "...         ...          ...       ...               ...       ...        ...   \n",
              "15336  20201227          1.0       0.9              32.0       7.5        7.5   \n",
              "15337  20201228          7.0       3.7              38.0       3.6        1.1   \n",
              "15338  20201229          7.0       0.0              21.0       4.1        2.6   \n",
              "15339  20201230          6.0       0.4              22.0       5.6        2.7   \n",
              "15340  20201231          7.0       1.3              34.0       1.5       -0.8   \n",
              "\n",
              "       min_temp  precipitation  pressure  snow_depth  \n",
              "0          -7.5            0.4  101900.0         9.0  \n",
              "1          -7.5            0.0  102530.0         8.0  \n",
              "2          -7.2            0.0  102050.0         4.0  \n",
              "3          -6.5            0.0  100840.0         2.0  \n",
              "4          -1.4            0.0  102250.0         1.0  \n",
              "...         ...            ...       ...         ...  \n",
              "15336       7.6            2.0   98000.0         NaN  \n",
              "15337      -1.3            0.2   97370.0         NaN  \n",
              "15338       1.1            0.0   98830.0         NaN  \n",
              "15339      -0.1            0.0  100200.0         NaN  \n",
              "15340      -3.1            0.0  100500.0         NaN  \n",
              "\n",
              "[15341 rows x 10 columns]>"
            ]
          },
          "metadata": {},
          "execution_count": 6
        }
      ]
    },
    {
      "cell_type": "code",
      "source": [
        "import matplotlib.pyplot as plt\n",
        "import tensorflow as tf\n",
        "from sklearn.model_selection import train_test_split\n",
        "from keras.layers import Dense, LSTM"
      ],
      "metadata": {
        "id": "SnGwKvsQHHPn"
      },
      "execution_count": 7,
      "outputs": []
    },
    {
      "cell_type": "code",
      "source": [
        "df_train.isnull().sum()"
      ],
      "metadata": {
        "colab": {
          "base_uri": "https://localhost:8080/"
        },
        "id": "OFDax0PdPxyX",
        "outputId": "6a3a4f6a-9356-420a-9109-423ea0e5108a"
      },
      "execution_count": 8,
      "outputs": [
        {
          "output_type": "execute_result",
          "data": {
            "text/plain": [
              "date                   0\n",
              "cloud_cover           19\n",
              "sunshine               0\n",
              "global_radiation      19\n",
              "max_temp               6\n",
              "mean_temp             36\n",
              "min_temp               2\n",
              "precipitation          6\n",
              "pressure               4\n",
              "snow_depth          1441\n",
              "dtype: int64"
            ]
          },
          "metadata": {},
          "execution_count": 8
        }
      ]
    },
    {
      "cell_type": "code",
      "source": [
        "df_train['date'] = pd.to_datetime(df_train['date'])\n",
        "df_train['date'].head()\n",
        "df_train['mean_temp'].fillna(df_train['mean_temp'].mean(), inplace = True)\n",
        "df_train = df_train[['date', 'mean_temp']]\n",
        "\n",
        "df_train.head()"
      ],
      "metadata": {
        "colab": {
          "base_uri": "https://localhost:8080/",
          "height": 206
        },
        "id": "6vb1XEPJP5S1",
        "outputId": "756ef89b-0aab-4ca5-8759-e9fc3cc8be11"
      },
      "execution_count": 9,
      "outputs": [
        {
          "output_type": "execute_result",
          "data": {
            "text/plain": [
              "                           date  mean_temp\n",
              "0 1970-01-01 00:00:00.019790101       -4.1\n",
              "1 1970-01-01 00:00:00.019790102       -2.6\n",
              "2 1970-01-01 00:00:00.019790103       -2.8\n",
              "3 1970-01-01 00:00:00.019790104       -2.6\n",
              "4 1970-01-01 00:00:00.019790105       -0.8"
            ],
            "text/html": [
              "\n",
              "  <div id=\"df-c82eaf50-f187-4bbd-bc60-5290f0bd0e1a\">\n",
              "    <div class=\"colab-df-container\">\n",
              "      <div>\n",
              "<style scoped>\n",
              "    .dataframe tbody tr th:only-of-type {\n",
              "        vertical-align: middle;\n",
              "    }\n",
              "\n",
              "    .dataframe tbody tr th {\n",
              "        vertical-align: top;\n",
              "    }\n",
              "\n",
              "    .dataframe thead th {\n",
              "        text-align: right;\n",
              "    }\n",
              "</style>\n",
              "<table border=\"1\" class=\"dataframe\">\n",
              "  <thead>\n",
              "    <tr style=\"text-align: right;\">\n",
              "      <th></th>\n",
              "      <th>date</th>\n",
              "      <th>mean_temp</th>\n",
              "    </tr>\n",
              "  </thead>\n",
              "  <tbody>\n",
              "    <tr>\n",
              "      <th>0</th>\n",
              "      <td>1970-01-01 00:00:00.019790101</td>\n",
              "      <td>-4.1</td>\n",
              "    </tr>\n",
              "    <tr>\n",
              "      <th>1</th>\n",
              "      <td>1970-01-01 00:00:00.019790102</td>\n",
              "      <td>-2.6</td>\n",
              "    </tr>\n",
              "    <tr>\n",
              "      <th>2</th>\n",
              "      <td>1970-01-01 00:00:00.019790103</td>\n",
              "      <td>-2.8</td>\n",
              "    </tr>\n",
              "    <tr>\n",
              "      <th>3</th>\n",
              "      <td>1970-01-01 00:00:00.019790104</td>\n",
              "      <td>-2.6</td>\n",
              "    </tr>\n",
              "    <tr>\n",
              "      <th>4</th>\n",
              "      <td>1970-01-01 00:00:00.019790105</td>\n",
              "      <td>-0.8</td>\n",
              "    </tr>\n",
              "  </tbody>\n",
              "</table>\n",
              "</div>\n",
              "      <button class=\"colab-df-convert\" onclick=\"convertToInteractive('df-c82eaf50-f187-4bbd-bc60-5290f0bd0e1a')\"\n",
              "              title=\"Convert this dataframe to an interactive table.\"\n",
              "              style=\"display:none;\">\n",
              "        \n",
              "  <svg xmlns=\"http://www.w3.org/2000/svg\" height=\"24px\"viewBox=\"0 0 24 24\"\n",
              "       width=\"24px\">\n",
              "    <path d=\"M0 0h24v24H0V0z\" fill=\"none\"/>\n",
              "    <path d=\"M18.56 5.44l.94 2.06.94-2.06 2.06-.94-2.06-.94-.94-2.06-.94 2.06-2.06.94zm-11 1L8.5 8.5l.94-2.06 2.06-.94-2.06-.94L8.5 2.5l-.94 2.06-2.06.94zm10 10l.94 2.06.94-2.06 2.06-.94-2.06-.94-.94-2.06-.94 2.06-2.06.94z\"/><path d=\"M17.41 7.96l-1.37-1.37c-.4-.4-.92-.59-1.43-.59-.52 0-1.04.2-1.43.59L10.3 9.45l-7.72 7.72c-.78.78-.78 2.05 0 2.83L4 21.41c.39.39.9.59 1.41.59.51 0 1.02-.2 1.41-.59l7.78-7.78 2.81-2.81c.8-.78.8-2.07 0-2.86zM5.41 20L4 18.59l7.72-7.72 1.47 1.35L5.41 20z\"/>\n",
              "  </svg>\n",
              "      </button>\n",
              "      \n",
              "  <style>\n",
              "    .colab-df-container {\n",
              "      display:flex;\n",
              "      flex-wrap:wrap;\n",
              "      gap: 12px;\n",
              "    }\n",
              "\n",
              "    .colab-df-convert {\n",
              "      background-color: #E8F0FE;\n",
              "      border: none;\n",
              "      border-radius: 50%;\n",
              "      cursor: pointer;\n",
              "      display: none;\n",
              "      fill: #1967D2;\n",
              "      height: 32px;\n",
              "      padding: 0 0 0 0;\n",
              "      width: 32px;\n",
              "    }\n",
              "\n",
              "    .colab-df-convert:hover {\n",
              "      background-color: #E2EBFA;\n",
              "      box-shadow: 0px 1px 2px rgba(60, 64, 67, 0.3), 0px 1px 3px 1px rgba(60, 64, 67, 0.15);\n",
              "      fill: #174EA6;\n",
              "    }\n",
              "\n",
              "    [theme=dark] .colab-df-convert {\n",
              "      background-color: #3B4455;\n",
              "      fill: #D2E3FC;\n",
              "    }\n",
              "\n",
              "    [theme=dark] .colab-df-convert:hover {\n",
              "      background-color: #434B5C;\n",
              "      box-shadow: 0px 1px 3px 1px rgba(0, 0, 0, 0.15);\n",
              "      filter: drop-shadow(0px 1px 2px rgba(0, 0, 0, 0.3));\n",
              "      fill: #FFFFFF;\n",
              "    }\n",
              "  </style>\n",
              "\n",
              "      <script>\n",
              "        const buttonEl =\n",
              "          document.querySelector('#df-c82eaf50-f187-4bbd-bc60-5290f0bd0e1a button.colab-df-convert');\n",
              "        buttonEl.style.display =\n",
              "          google.colab.kernel.accessAllowed ? 'block' : 'none';\n",
              "\n",
              "        async function convertToInteractive(key) {\n",
              "          const element = document.querySelector('#df-c82eaf50-f187-4bbd-bc60-5290f0bd0e1a');\n",
              "          const dataTable =\n",
              "            await google.colab.kernel.invokeFunction('convertToInteractive',\n",
              "                                                     [key], {});\n",
              "          if (!dataTable) return;\n",
              "\n",
              "          const docLinkHtml = 'Like what you see? Visit the ' +\n",
              "            '<a target=\"_blank\" href=https://colab.research.google.com/notebooks/data_table.ipynb>data table notebook</a>'\n",
              "            + ' to learn more about interactive tables.';\n",
              "          element.innerHTML = '';\n",
              "          dataTable['output_type'] = 'display_data';\n",
              "          await google.colab.output.renderOutput(dataTable, element);\n",
              "          const docLink = document.createElement('div');\n",
              "          docLink.innerHTML = docLinkHtml;\n",
              "          element.appendChild(docLink);\n",
              "        }\n",
              "      </script>\n",
              "    </div>\n",
              "  </div>\n",
              "  "
            ]
          },
          "metadata": {},
          "execution_count": 9
        }
      ]
    },
    {
      "cell_type": "code",
      "source": [
        "df_train.info()"
      ],
      "metadata": {
        "colab": {
          "base_uri": "https://localhost:8080/"
        },
        "id": "YL5F7lUDRCTM",
        "outputId": "d05160dc-2e2a-4222-a391-cc8b0065c265"
      },
      "execution_count": 10,
      "outputs": [
        {
          "output_type": "stream",
          "name": "stdout",
          "text": [
            "<class 'pandas.core.frame.DataFrame'>\n",
            "RangeIndex: 15341 entries, 0 to 15340\n",
            "Data columns (total 2 columns):\n",
            " #   Column     Non-Null Count  Dtype         \n",
            "---  ------     --------------  -----         \n",
            " 0   date       15341 non-null  datetime64[ns]\n",
            " 1   mean_temp  15341 non-null  float64       \n",
            "dtypes: datetime64[ns](1), float64(1)\n",
            "memory usage: 239.8 KB\n"
          ]
        }
      ]
    },
    {
      "cell_type": "code",
      "source": [
        "london = df_train[['date', 'mean_temp']].copy()\n",
        "london['only_date'] = london['date'].dt.date\n",
        "\n",
        "london_final = london.drop('date', axis = 1)\n",
        "london_final.set_index('only_date', inplace = True)\n",
        "london_final.head()"
      ],
      "metadata": {
        "colab": {
          "base_uri": "https://localhost:8080/",
          "height": 238
        },
        "id": "ROY7cYC6RIOe",
        "outputId": "098b7018-d1f5-409d-edfd-0a4844337d73"
      },
      "execution_count": 11,
      "outputs": [
        {
          "output_type": "execute_result",
          "data": {
            "text/plain": [
              "            mean_temp\n",
              "only_date            \n",
              "1970-01-01       -4.1\n",
              "1970-01-01       -2.6\n",
              "1970-01-01       -2.8\n",
              "1970-01-01       -2.6\n",
              "1970-01-01       -0.8"
            ],
            "text/html": [
              "\n",
              "  <div id=\"df-50dda6a2-f0db-45ff-85b4-19bea45056e3\">\n",
              "    <div class=\"colab-df-container\">\n",
              "      <div>\n",
              "<style scoped>\n",
              "    .dataframe tbody tr th:only-of-type {\n",
              "        vertical-align: middle;\n",
              "    }\n",
              "\n",
              "    .dataframe tbody tr th {\n",
              "        vertical-align: top;\n",
              "    }\n",
              "\n",
              "    .dataframe thead th {\n",
              "        text-align: right;\n",
              "    }\n",
              "</style>\n",
              "<table border=\"1\" class=\"dataframe\">\n",
              "  <thead>\n",
              "    <tr style=\"text-align: right;\">\n",
              "      <th></th>\n",
              "      <th>mean_temp</th>\n",
              "    </tr>\n",
              "    <tr>\n",
              "      <th>only_date</th>\n",
              "      <th></th>\n",
              "    </tr>\n",
              "  </thead>\n",
              "  <tbody>\n",
              "    <tr>\n",
              "      <th>1970-01-01</th>\n",
              "      <td>-4.1</td>\n",
              "    </tr>\n",
              "    <tr>\n",
              "      <th>1970-01-01</th>\n",
              "      <td>-2.6</td>\n",
              "    </tr>\n",
              "    <tr>\n",
              "      <th>1970-01-01</th>\n",
              "      <td>-2.8</td>\n",
              "    </tr>\n",
              "    <tr>\n",
              "      <th>1970-01-01</th>\n",
              "      <td>-2.6</td>\n",
              "    </tr>\n",
              "    <tr>\n",
              "      <th>1970-01-01</th>\n",
              "      <td>-0.8</td>\n",
              "    </tr>\n",
              "  </tbody>\n",
              "</table>\n",
              "</div>\n",
              "      <button class=\"colab-df-convert\" onclick=\"convertToInteractive('df-50dda6a2-f0db-45ff-85b4-19bea45056e3')\"\n",
              "              title=\"Convert this dataframe to an interactive table.\"\n",
              "              style=\"display:none;\">\n",
              "        \n",
              "  <svg xmlns=\"http://www.w3.org/2000/svg\" height=\"24px\"viewBox=\"0 0 24 24\"\n",
              "       width=\"24px\">\n",
              "    <path d=\"M0 0h24v24H0V0z\" fill=\"none\"/>\n",
              "    <path d=\"M18.56 5.44l.94 2.06.94-2.06 2.06-.94-2.06-.94-.94-2.06-.94 2.06-2.06.94zm-11 1L8.5 8.5l.94-2.06 2.06-.94-2.06-.94L8.5 2.5l-.94 2.06-2.06.94zm10 10l.94 2.06.94-2.06 2.06-.94-2.06-.94-.94-2.06-.94 2.06-2.06.94z\"/><path d=\"M17.41 7.96l-1.37-1.37c-.4-.4-.92-.59-1.43-.59-.52 0-1.04.2-1.43.59L10.3 9.45l-7.72 7.72c-.78.78-.78 2.05 0 2.83L4 21.41c.39.39.9.59 1.41.59.51 0 1.02-.2 1.41-.59l7.78-7.78 2.81-2.81c.8-.78.8-2.07 0-2.86zM5.41 20L4 18.59l7.72-7.72 1.47 1.35L5.41 20z\"/>\n",
              "  </svg>\n",
              "      </button>\n",
              "      \n",
              "  <style>\n",
              "    .colab-df-container {\n",
              "      display:flex;\n",
              "      flex-wrap:wrap;\n",
              "      gap: 12px;\n",
              "    }\n",
              "\n",
              "    .colab-df-convert {\n",
              "      background-color: #E8F0FE;\n",
              "      border: none;\n",
              "      border-radius: 50%;\n",
              "      cursor: pointer;\n",
              "      display: none;\n",
              "      fill: #1967D2;\n",
              "      height: 32px;\n",
              "      padding: 0 0 0 0;\n",
              "      width: 32px;\n",
              "    }\n",
              "\n",
              "    .colab-df-convert:hover {\n",
              "      background-color: #E2EBFA;\n",
              "      box-shadow: 0px 1px 2px rgba(60, 64, 67, 0.3), 0px 1px 3px 1px rgba(60, 64, 67, 0.15);\n",
              "      fill: #174EA6;\n",
              "    }\n",
              "\n",
              "    [theme=dark] .colab-df-convert {\n",
              "      background-color: #3B4455;\n",
              "      fill: #D2E3FC;\n",
              "    }\n",
              "\n",
              "    [theme=dark] .colab-df-convert:hover {\n",
              "      background-color: #434B5C;\n",
              "      box-shadow: 0px 1px 3px 1px rgba(0, 0, 0, 0.15);\n",
              "      filter: drop-shadow(0px 1px 2px rgba(0, 0, 0, 0.3));\n",
              "      fill: #FFFFFF;\n",
              "    }\n",
              "  </style>\n",
              "\n",
              "      <script>\n",
              "        const buttonEl =\n",
              "          document.querySelector('#df-50dda6a2-f0db-45ff-85b4-19bea45056e3 button.colab-df-convert');\n",
              "        buttonEl.style.display =\n",
              "          google.colab.kernel.accessAllowed ? 'block' : 'none';\n",
              "\n",
              "        async function convertToInteractive(key) {\n",
              "          const element = document.querySelector('#df-50dda6a2-f0db-45ff-85b4-19bea45056e3');\n",
              "          const dataTable =\n",
              "            await google.colab.kernel.invokeFunction('convertToInteractive',\n",
              "                                                     [key], {});\n",
              "          if (!dataTable) return;\n",
              "\n",
              "          const docLinkHtml = 'Like what you see? Visit the ' +\n",
              "            '<a target=\"_blank\" href=https://colab.research.google.com/notebooks/data_table.ipynb>data table notebook</a>'\n",
              "            + ' to learn more about interactive tables.';\n",
              "          element.innerHTML = '';\n",
              "          dataTable['output_type'] = 'display_data';\n",
              "          await google.colab.output.renderOutput(dataTable, element);\n",
              "          const docLink = document.createElement('div');\n",
              "          docLink.innerHTML = docLinkHtml;\n",
              "          element.appendChild(docLink);\n",
              "        }\n",
              "      </script>\n",
              "    </div>\n",
              "  </div>\n",
              "  "
            ]
          },
          "metadata": {},
          "execution_count": 11
        }
      ]
    },
    {
      "cell_type": "code",
      "source": [
        "london_final.info()"
      ],
      "metadata": {
        "colab": {
          "base_uri": "https://localhost:8080/"
        },
        "id": "FHsX3QFOjVZg",
        "outputId": "69e955d6-53c4-4a1a-9167-9ef67997f13c"
      },
      "execution_count": 12,
      "outputs": [
        {
          "output_type": "stream",
          "name": "stdout",
          "text": [
            "<class 'pandas.core.frame.DataFrame'>\n",
            "Index: 15341 entries, 1970-01-01 to 1970-01-01\n",
            "Data columns (total 1 columns):\n",
            " #   Column     Non-Null Count  Dtype  \n",
            "---  ------     --------------  -----  \n",
            " 0   mean_temp  15341 non-null  float64\n",
            "dtypes: float64(1)\n",
            "memory usage: 239.7+ KB\n"
          ]
        }
      ]
    },
    {
      "cell_type": "code",
      "source": [
        "plt.figure(figsize = (18, 8))\n",
        "plt.plot(london_final)\n",
        "plt.title('London Weather')\n",
        "plt.xlabel('Date')\n",
        "plt.ylabel('Mean Temperature')\n",
        "plt.show()"
      ],
      "metadata": {
        "colab": {
          "base_uri": "https://localhost:8080/",
          "height": 513
        },
        "id": "ITWmt0zhjiwG",
        "outputId": "a4191402-20b1-479b-ca9b-07513ce1b203"
      },
      "execution_count": 13,
      "outputs": [
        {
          "output_type": "display_data",
          "data": {
            "text/plain": [
              "<Figure size 1296x576 with 1 Axes>"
            ],
            "image/png": "[encoded data removed]"
          },
          "metadata": {
            "needs_background": "light"
          }
        }
      ]
    },
    {
      "cell_type": "code",
      "source": [
        "date_values = df_train['date'].values\n",
        "temperature_values = df_train['mean_temp'].values"
      ],
      "metadata": {
        "id": "smxAu6M2kXMy"
      },
      "execution_count": 14,
      "outputs": []
    },
    {
      "cell_type": "code",
      "source": [
        "def windowed_dataset(series, window_size, batch_size,shuffle_buffer):\n",
        "  series = tf.expand_dims(series, axis = 1)\n",
        "  data_set = tf.data.Dataset.from_tensor_slices(series)\n",
        "  data_set = data_set.window(window_size + 1, shift = 1, drop_remainder = True)\n",
        "  data_set = data_set.flat_map(lambda w: w.batch(window_size + 1))\n",
        "  data_set = data_set.shuffle(shuffle_buffer)\n",
        "  data_set = data_set.map(lambda w: (w[:-1], w[-1:]))\n",
        "  return data_set.batch(batch_size).prefetch(1)"
      ],
      "metadata": {
        "id": "ZfUcwUHBkqqW"
      },
      "execution_count": 15,
      "outputs": []
    },
    {
      "cell_type": "code",
      "source": [
        "x_train, x_test, y_train, y_test = train_test_split(temperature_values, date_values, test_size = 0.2, random_state = 0 , shuffle=False)\n",
        "print(len(x_train), len(x_test))"
      ],
      "metadata": {
        "colab": {
          "base_uri": "https://localhost:8080/"
        },
        "id": "oQTsEv5AmtQw",
        "outputId": "1fc9e2a3-bd4f-4475-dcb9-795a3f4e72f5"
      },
      "execution_count": 16,
      "outputs": [
        {
          "output_type": "stream",
          "name": "stdout",
          "text": [
            "12272 3069\n"
          ]
        }
      ]
    },
    {
      "cell_type": "code",
      "source": [
        "data_x_train = windowed_dataset(x_train, window_size=60, batch_size=30, shuffle_buffer=5000)\n",
        "data_x_test = windowed_dataset(x_test, window_size=60, batch_size=30, shuffle_buffer=5000)\n",
        "\n",
        "model = tf.keras.models.Sequential([\n",
        "  tf.keras.layers.Conv1D(filters=32, kernel_size=5,\n",
        "                      strides=1, padding=\"causal\",\n",
        "                      activation=\"relu\",\n",
        "                      input_shape=[None, 1]),\n",
        "  tf.keras.layers.LSTM(64, return_sequences=True),\n",
        "  tf.keras.layers.LSTM(64, return_sequences=True),\n",
        "  tf.keras.layers.Dense(30, activation=\"relu\"),\n",
        "  tf.keras.layers.Dense(10, activation=\"relu\"),\n",
        "  tf.keras.layers.Dense(1),\n",
        "  tf.keras.layers.Lambda(lambda x: x * 400)\n",
        "])\n",
        "\n",
        "lr_schedule = tf.keras.callbacks.LearningRateScheduler(\n",
        "    lambda epoch: 1e-8 * 10**(epoch / 20))\n",
        "optimizer = tf.keras.optimizers.SGD(lr=1e-8, momentum=0.9)\n",
        "model.compile(loss=tf.keras.losses.Huber(),\n",
        "              optimizer = optimizer,\n",
        "              metrics=[\"mae\"])"
      ],
      "metadata": {
        "id": "v-UOVjnAnGJF",
        "colab": {
          "base_uri": "https://localhost:8080/"
        },
        "outputId": "3cab53dd-5787-4d21-9b8b-11027e18c3d0"
      },
      "execution_count": 17,
      "outputs": [
        {
          "output_type": "stream",
          "name": "stderr",
          "text": [
            "/usr/local/lib/python3.7/dist-packages/keras/optimizers/optimizer_v2/gradient_descent.py:108: UserWarning: The `lr` argument is deprecated, use `learning_rate` instead.\n",
            "  super(SGD, self).__init__(name, **kwargs)\n"
          ]
        }
      ]
    },
    {
      "cell_type": "code",
      "source": [
        "max = df_train['mean_temp'].max()\n",
        "min = df_train['mean_temp'].min()\n",
        "mae_x = (max - min) * 0.1\n",
        "print(mae_x)"
      ],
      "metadata": {
        "colab": {
          "base_uri": "https://localhost:8080/"
        },
        "id": "OpoX-5gknr0Z",
        "outputId": "99bebab4-ff04-4d99-dae8-ade7742e4a13"
      },
      "execution_count": 18,
      "outputs": [
        {
          "output_type": "stream",
          "name": "stdout",
          "text": [
            "3.66\n"
          ]
        }
      ]
    },
    {
      "cell_type": "code",
      "source": [
        "# callback\n",
        "class historyCallback(tf.keras.callbacks.Callback):\n",
        "  def on_epoch_end(self, epoch, logs={}):\n",
        "    if(logs.get('mae') < mae_x):\n",
        "      self.model.stop_training = True\n",
        "      print(\"\\n value of MAE is less than < 10% of data scale and forced to stop\")\n",
        "callbacks = historyCallback()"
      ],
      "metadata": {
        "id": "IQdzroGIoVEO"
      },
      "execution_count": 21,
      "outputs": []
    },
    {
      "cell_type": "code",
      "source": [
        "tf.keras.backend.set_floatx('float64')\n",
        "history = model.fit(data_x_train,\n",
        "                    epochs = 200,\n",
        "                    validation_data = data_x_test,\n",
        "                    callbacks=[callbacks])"
      ],
      "metadata": {
        "colab": {
          "base_uri": "https://localhost:8080/"
        },
        "id": "0Z7Kg3zRomoj",
        "outputId": "fff28591-a25d-410d-aae8-d08b6ff43e2c"
      },
      "execution_count": 22,
      "outputs": [
        {
          "output_type": "stream",
          "name": "stdout",
          "text": [
            "Epoch 1/200\n",
            "408/408 [==============================] - 57s 120ms/step - loss: 5.1515 - mae: 5.6325 - val_loss: 4.3755 - val_mae: 4.8541\n",
            "Epoch 2/200\n",
            "408/408 [==============================] - 35s 83ms/step - loss: 4.2507 - mae: 4.7285 - val_loss: 4.2643 - val_mae: 4.7421\n",
            "Epoch 3/200\n",
            "408/408 [==============================] - 34s 83ms/step - loss: 4.1534 - mae: 4.6305 - val_loss: 4.1856 - val_mae: 4.6631\n",
            "Epoch 4/200\n",
            "408/408 [==============================] - 35s 84ms/step - loss: 4.0694 - mae: 4.5462 - val_loss: 4.0739 - val_mae: 4.5508\n",
            "Epoch 5/200\n",
            "408/408 [==============================] - 36s 85ms/step - loss: 3.9896 - mae: 4.4660 - val_loss: 3.9892 - val_mae: 4.4657\n",
            "Epoch 6/200\n",
            "408/408 [==============================] - 34s 81ms/step - loss: 3.8984 - mae: 4.3744 - val_loss: 3.8799 - val_mae: 4.3559\n",
            "Epoch 7/200\n",
            "408/408 [==============================] - 34s 81ms/step - loss: 3.7912 - mae: 4.2661 - val_loss: 3.7615 - val_mae: 4.2363\n",
            "Epoch 8/200\n",
            "408/408 [==============================] - 34s 81ms/step - loss: 3.7159 - mae: 4.1899 - val_loss: 3.6939 - val_mae: 4.1678\n",
            "Epoch 9/200\n",
            "408/408 [==============================] - 35s 83ms/step - loss: 3.6743 - mae: 4.1479 - val_loss: 3.6543 - val_mae: 4.1280\n",
            "Epoch 10/200\n",
            "408/408 [==============================] - 34s 81ms/step - loss: 3.6411 - mae: 4.1145 - val_loss: 3.6154 - val_mae: 4.0888\n",
            "Epoch 11/200\n",
            "408/408 [==============================] - 34s 81ms/step - loss: 3.6122 - mae: 4.0853 - val_loss: 3.5781 - val_mae: 4.0512\n",
            "Epoch 12/200\n",
            "408/408 [==============================] - 34s 82ms/step - loss: 3.5826 - mae: 4.0555 - val_loss: 3.5536 - val_mae: 4.0262\n",
            "Epoch 13/200\n",
            "408/408 [==============================] - 34s 82ms/step - loss: 3.5574 - mae: 4.0301 - val_loss: 3.5158 - val_mae: 3.9885\n",
            "Epoch 14/200\n",
            "408/408 [==============================] - 35s 83ms/step - loss: 3.5323 - mae: 4.0048 - val_loss: 3.4911 - val_mae: 3.9641\n",
            "Epoch 15/200\n",
            "408/408 [==============================] - 34s 82ms/step - loss: 3.5107 - mae: 3.9831 - val_loss: 3.4647 - val_mae: 3.9374\n",
            "Epoch 16/200\n",
            "408/408 [==============================] - 34s 82ms/step - loss: 3.4887 - mae: 3.9610 - val_loss: 3.4424 - val_mae: 3.9148\n",
            "Epoch 17/200\n",
            "408/408 [==============================] - 34s 81ms/step - loss: 3.4694 - mae: 3.9415 - val_loss: 3.4237 - val_mae: 3.8960\n",
            "Epoch 18/200\n",
            "408/408 [==============================] - 35s 83ms/step - loss: 3.4536 - mae: 3.9254 - val_loss: 3.4036 - val_mae: 3.8759\n",
            "Epoch 19/200\n",
            "408/408 [==============================] - 35s 83ms/step - loss: 3.4376 - mae: 3.9093 - val_loss: 3.3865 - val_mae: 3.8586\n",
            "Epoch 20/200\n",
            "408/408 [==============================] - 34s 82ms/step - loss: 3.4237 - mae: 3.8953 - val_loss: 3.3697 - val_mae: 3.8416\n",
            "Epoch 21/200\n",
            "408/408 [==============================] - 34s 83ms/step - loss: 3.4104 - mae: 3.8820 - val_loss: 3.3546 - val_mae: 3.8262\n",
            "Epoch 22/200\n",
            "408/408 [==============================] - 35s 85ms/step - loss: 3.3982 - mae: 3.8696 - val_loss: 3.3409 - val_mae: 3.8123\n",
            "Epoch 23/200\n",
            "408/408 [==============================] - 35s 83ms/step - loss: 3.3877 - mae: 3.8590 - val_loss: 3.3281 - val_mae: 3.7995\n",
            "Epoch 24/200\n",
            "408/408 [==============================] - 35s 83ms/step - loss: 3.3771 - mae: 3.8482 - val_loss: 3.3194 - val_mae: 3.7906\n",
            "Epoch 25/200\n",
            "408/408 [==============================] - 34s 82ms/step - loss: 3.3699 - mae: 3.8410 - val_loss: 3.3080 - val_mae: 3.7790\n",
            "Epoch 26/200\n",
            "408/408 [==============================] - 34s 83ms/step - loss: 3.3604 - mae: 3.8313 - val_loss: 3.3020 - val_mae: 3.7731\n",
            "Epoch 27/200\n",
            "408/408 [==============================] - 34s 82ms/step - loss: 3.3530 - mae: 3.8238 - val_loss: 3.2872 - val_mae: 3.7578\n",
            "Epoch 28/200\n",
            "408/408 [==============================] - 34s 82ms/step - loss: 3.3452 - mae: 3.8158 - val_loss: 3.2767 - val_mae: 3.7475\n",
            "Epoch 29/200\n",
            "408/408 [==============================] - 34s 82ms/step - loss: 3.3396 - mae: 3.8102 - val_loss: 3.2696 - val_mae: 3.7403\n",
            "Epoch 30/200\n",
            "408/408 [==============================] - 34s 82ms/step - loss: 3.3324 - mae: 3.8030 - val_loss: 3.2655 - val_mae: 3.7363\n",
            "Epoch 31/200\n",
            "408/408 [==============================] - 35s 83ms/step - loss: 3.3267 - mae: 3.7974 - val_loss: 3.2547 - val_mae: 3.7254\n",
            "Epoch 32/200\n",
            "408/408 [==============================] - 34s 82ms/step - loss: 3.3212 - mae: 3.7917 - val_loss: 3.2478 - val_mae: 3.7185\n",
            "Epoch 33/200\n",
            "408/408 [==============================] - 34s 81ms/step - loss: 3.3154 - mae: 3.7859 - val_loss: 3.2414 - val_mae: 3.7121\n",
            "Epoch 34/200\n",
            "408/408 [==============================] - 34s 81ms/step - loss: 3.3100 - mae: 3.7805 - val_loss: 3.2348 - val_mae: 3.7053\n",
            "Epoch 35/200\n",
            "408/408 [==============================] - 35s 83ms/step - loss: 3.3044 - mae: 3.7748 - val_loss: 3.2287 - val_mae: 3.6992\n",
            "Epoch 36/200\n",
            "408/408 [==============================] - 34s 81ms/step - loss: 3.2995 - mae: 3.7699 - val_loss: 3.2229 - val_mae: 3.6934\n",
            "Epoch 37/200\n",
            "408/408 [==============================] - 34s 82ms/step - loss: 3.2941 - mae: 3.7645 - val_loss: 3.2270 - val_mae: 3.6971\n",
            "Epoch 38/200\n",
            "408/408 [==============================] - 34s 82ms/step - loss: 3.2902 - mae: 3.7606 - val_loss: 3.2119 - val_mae: 3.6822\n",
            "Epoch 39/200\n",
            "408/408 [==============================] - 34s 82ms/step - loss: 3.2850 - mae: 3.7554 - val_loss: 3.2071 - val_mae: 3.6773\n",
            "Epoch 40/200\n",
            "408/408 [==============================] - 35s 84ms/step - loss: 3.2796 - mae: 3.7499 - val_loss: 3.2026 - val_mae: 3.6727\n",
            "Epoch 41/200\n",
            "408/408 [==============================] - 34s 82ms/step - loss: 3.2755 - mae: 3.7457 - val_loss: 3.2007 - val_mae: 3.6707\n",
            "Epoch 42/200\n",
            "408/408 [==============================] - 34s 82ms/step - loss: 3.2707 - mae: 3.7410 - val_loss: 3.1956 - val_mae: 3.6655\n",
            "Epoch 43/200\n",
            "408/408 [==============================] - 34s 82ms/step - loss: 3.2666 - mae: 3.7368 - val_loss: 3.1874 - val_mae: 3.6573\n",
            "Epoch 44/200\n",
            "408/408 [==============================] - 35s 84ms/step - loss: 3.2622 - mae: 3.7324 - val_loss: 3.1859 - val_mae: 3.6556\n",
            "Epoch 45/200\n",
            "408/408 [==============================] - 34s 82ms/step - loss: 3.2590 - mae: 3.7292 - val_loss: 3.1777 - val_mae: 3.6475\n",
            "Epoch 46/200\n",
            "408/408 [==============================] - 34s 82ms/step - loss: 3.2539 - mae: 3.7241 - val_loss: 3.1750 - val_mae: 3.6448\n",
            "Epoch 47/200\n",
            "408/408 [==============================] - 34s 82ms/step - loss: 3.2501 - mae: 3.7203 - val_loss: 3.1705 - val_mae: 3.6402\n",
            "Epoch 48/200\n",
            "408/408 [==============================] - 35s 84ms/step - loss: 3.2462 - mae: 3.7163 - val_loss: 3.1654 - val_mae: 3.6350\n",
            "Epoch 49/200\n",
            "408/408 [==============================] - 34s 82ms/step - loss: 3.2426 - mae: 3.7127 - val_loss: 3.1616 - val_mae: 3.6312\n",
            "Epoch 50/200\n",
            "408/408 [==============================] - 34s 82ms/step - loss: 3.2405 - mae: 3.7105 - val_loss: 3.1624 - val_mae: 3.6321\n",
            "Epoch 51/200\n",
            "408/408 [==============================] - 34s 82ms/step - loss: 3.2354 - mae: 3.7054 - val_loss: 3.1543 - val_mae: 3.6239\n",
            "Epoch 52/200\n",
            "408/408 [==============================] - 34s 81ms/step - loss: 3.2315 - mae: 3.7014 - val_loss: 3.1511 - val_mae: 3.6206\n",
            "Epoch 53/200\n",
            "408/408 [==============================] - 35s 84ms/step - loss: 3.2283 - mae: 3.6983 - val_loss: 3.1471 - val_mae: 3.6167\n",
            "Epoch 54/200\n",
            "408/408 [==============================] - 34s 82ms/step - loss: 3.2243 - mae: 3.6943 - val_loss: 3.1466 - val_mae: 3.6159\n",
            "Epoch 55/200\n",
            "408/408 [==============================] - 34s 82ms/step - loss: 3.2200 - mae: 3.6899 - val_loss: 3.1415 - val_mae: 3.6110\n",
            "Epoch 56/200\n",
            "408/408 [==============================] - 34s 82ms/step - loss: 3.2177 - mae: 3.6876 - val_loss: 3.1371 - val_mae: 3.6065\n",
            "Epoch 57/200\n",
            "408/408 [==============================] - 35s 84ms/step - loss: 3.2133 - mae: 3.6832 - val_loss: 3.1337 - val_mae: 3.6031\n",
            "Epoch 58/200\n",
            "408/408 [==============================] - 34s 82ms/step - loss: 3.2113 - mae: 3.6811 - val_loss: 3.1302 - val_mae: 3.5996\n",
            "Epoch 59/200\n",
            "408/408 [==============================] - 34s 82ms/step - loss: 3.2072 - mae: 3.6771 - val_loss: 3.1290 - val_mae: 3.5984\n",
            "Epoch 60/200\n",
            "408/408 [==============================] - 34s 82ms/step - loss: 3.2042 - mae: 3.6741 - val_loss: 3.1236 - val_mae: 3.5931\n",
            "Epoch 61/200\n",
            "408/408 [==============================] - 34s 82ms/step - loss: 3.2020 - mae: 3.6718 - val_loss: 3.1222 - val_mae: 3.5917\n",
            "Epoch 62/200\n",
            "408/408 [==============================] - 35s 84ms/step - loss: 3.1986 - mae: 3.6685 - val_loss: 3.1293 - val_mae: 3.5985\n",
            "Epoch 63/200\n",
            "408/408 [==============================] - 34s 82ms/step - loss: 3.1957 - mae: 3.6655 - val_loss: 3.1149 - val_mae: 3.5843\n",
            "Epoch 64/200\n",
            "408/408 [==============================] - 35s 83ms/step - loss: 3.1931 - mae: 3.6629 - val_loss: 3.1196 - val_mae: 3.5889\n",
            "Epoch 65/200\n",
            "408/408 [==============================] - ETA: 0s - loss: 3.1893 - mae: 3.6591\n",
            " value of MAE is less than < 10% of data scale and forced to stop\n",
            "408/408 [==============================] - 35s 83ms/step - loss: 3.1893 - mae: 3.6591 - val_loss: 3.1102 - val_mae: 3.5795\n"
          ]
        }
      ]
    },
    {
      "cell_type": "code",
      "source": [
        "# Graphic Plot of MAE\n",
        "plt.plot(history.history['mae'])\n",
        "plt.plot(history.history['val_mae'])\n",
        "plt.title('Graphic MAE Value')\n",
        "plt.ylabel('mae')\n",
        "plt.xlabel('epoch')\n",
        "plt.legend(['Data Train', 'Data Test'], loc='upper left')\n",
        "plt.show()\n",
        "\n",
        "\n",
        "# Graphic Plot of LOSS\n",
        "plt.plot(history.history['loss'])\n",
        "plt.plot(history.history['val_loss'])\n",
        "plt.title('Graphic Loss Value')\n",
        "plt.ylabel('loss')\n",
        "plt.xlabel('epoch')\n",
        "plt.legend(['Data Train', 'Data Test'], loc='upper left')\n",
        "plt.show()"
      ],
      "metadata": {
        "colab": {
          "base_uri": "https://localhost:8080/",
          "height": 573
        },
        "id": "a3f98YIMpMzp",
        "outputId": "e8f8773d-0bbc-4cb5-aa62-cd1f4e824b53"
      },
      "execution_count": 23,
      "outputs": [
        {
          "output_type": "display_data",
          "data": {
            "text/plain": [
              "<Figure size 432x288 with 1 Axes>"
            ],
            "image/png": "[encoded data removed]"
          },
          "metadata": {
            "needs_background": "light"
          }
        },
        {
          "output_type": "display_data",
          "data": {
            "text/plain": [
              "<Figure size 432x288 with 1 Axes>"
            ],
            "image/png": "[encoded data removed]"
          },
          "metadata": {
            "needs_background": "light"
          }
        }
      ]
    }
  ]
}